{
 "cells": [
  {
   "cell_type": "markdown",
   "metadata": {},
   "source": [
    "# Correlation among BTC, ETH, LTC, DOGE cryptocurrencies"
   ]
  },
  {
   "cell_type": "code",
   "execution_count": 1,
   "metadata": {},
   "outputs": [],
   "source": [
    "import pandas as pd\n",
    "import matplotlib.pyplot as plt\n",
    "import numpy as np\n",
    "import seaborn as sns"
   ]
  },
  {
   "cell_type": "code",
   "execution_count": 2,
   "metadata": {},
   "outputs": [],
   "source": [
    "def read_dataset(filename):\n",
    "    print('Reading data from %s' % filename)\n",
    "    df = pd.read_csv(filename)\n",
    "    df.Date = pd.to_datetime(df.Date) # change to datetime\n",
    "    df = df.set_index('Date') \n",
    "    df = df.sort_index() # sort by datetime\n",
    "    print(df.shape)\n",
    "    return df"
   ]
  },
  {
   "cell_type": "code",
   "execution_count": 3,
   "metadata": {},
   "outputs": [
    {
     "name": "stdout",
     "output_type": "stream",
     "text": [
      "Reading data from BTC_PRICES_2020.csv\n",
      "(366, 5)\n",
      "Reading data from ETH_PRICES_2020.csv\n",
      "(366, 5)\n",
      "Reading data from LTC_PRICES_2020.csv\n",
      "(366, 5)\n",
      "Reading data from DOGE_PRICES_2020.csv\n",
      "(366, 5)\n"
     ]
    }
   ],
   "source": [
    "btc = read_dataset('BTC_PRICES_2020.csv')\n",
    "eth = read_dataset('ETH_PRICES_2020.csv')\n",
    "ltc = read_dataset('LTC_PRICES_2020.csv')\n",
    "DOGE = read_dataset('DOGE_PRICES_2020.csv')"
   ]
  },
  {
   "cell_type": "code",
   "execution_count": 4,
   "metadata": {},
   "outputs": [
    {
     "data": {
      "text/html": [
       "<div>\n",
       "<style scoped>\n",
       "    .dataframe tbody tr th:only-of-type {\n",
       "        vertical-align: middle;\n",
       "    }\n",
       "\n",
       "    .dataframe tbody tr th {\n",
       "        vertical-align: top;\n",
       "    }\n",
       "\n",
       "    .dataframe thead th {\n",
       "        text-align: right;\n",
       "    }\n",
       "</style>\n",
       "<table border=\"1\" class=\"dataframe\">\n",
       "  <thead>\n",
       "    <tr style=\"text-align: right;\">\n",
       "      <th></th>\n",
       "      <th>Currency</th>\n",
       "      <th>Close</th>\n",
       "      <th>Open</th>\n",
       "      <th>High</th>\n",
       "      <th>Low</th>\n",
       "    </tr>\n",
       "    <tr>\n",
       "      <th>Date</th>\n",
       "      <th></th>\n",
       "      <th></th>\n",
       "      <th></th>\n",
       "      <th></th>\n",
       "      <th></th>\n",
       "    </tr>\n",
       "  </thead>\n",
       "  <tbody>\n",
       "    <tr>\n",
       "      <th>2020-01-01</th>\n",
       "      <td>BTC</td>\n",
       "      <td>7179.957819</td>\n",
       "      <td>7251.277888</td>\n",
       "      <td>7298.892042</td>\n",
       "      <td>7119.626946</td>\n",
       "    </tr>\n",
       "    <tr>\n",
       "      <th>2020-01-02</th>\n",
       "      <td>BTC</td>\n",
       "      <td>9388.880752</td>\n",
       "      <td>9548.545376</td>\n",
       "      <td>9558.432613</td>\n",
       "      <td>9198.659041</td>\n",
       "    </tr>\n",
       "    <tr>\n",
       "      <th>2020-01-03</th>\n",
       "      <td>BTC</td>\n",
       "      <td>8639.591417</td>\n",
       "      <td>8778.467316</td>\n",
       "      <td>8806.844965</td>\n",
       "      <td>8591.292540</td>\n",
       "    </tr>\n",
       "    <tr>\n",
       "      <th>2020-01-04</th>\n",
       "      <td>BTC</td>\n",
       "      <td>6446.421347</td>\n",
       "      <td>6483.617042</td>\n",
       "      <td>6533.064909</td>\n",
       "      <td>6344.633536</td>\n",
       "    </tr>\n",
       "    <tr>\n",
       "      <th>2020-01-05</th>\n",
       "      <td>BTC</td>\n",
       "      <td>8767.672623</td>\n",
       "      <td>8768.047180</td>\n",
       "      <td>9469.078423</td>\n",
       "      <td>8415.474740</td>\n",
       "    </tr>\n",
       "  </tbody>\n",
       "</table>\n",
       "</div>"
      ],
      "text/plain": [
       "           Currency        Close         Open         High          Low\n",
       "Date                                                                   \n",
       "2020-01-01      BTC  7179.957819  7251.277888  7298.892042  7119.626946\n",
       "2020-01-02      BTC  9388.880752  9548.545376  9558.432613  9198.659041\n",
       "2020-01-03      BTC  8639.591417  8778.467316  8806.844965  8591.292540\n",
       "2020-01-04      BTC  6446.421347  6483.617042  6533.064909  6344.633536\n",
       "2020-01-05      BTC  8767.672623  8768.047180  9469.078423  8415.474740"
      ]
     },
     "execution_count": 4,
     "metadata": {},
     "output_type": "execute_result"
    }
   ],
   "source": [
    "btc.head()"
   ]
  },
  {
   "cell_type": "code",
   "execution_count": 5,
   "metadata": {},
   "outputs": [
    {
     "data": {
      "text/html": [
       "<div>\n",
       "<style scoped>\n",
       "    .dataframe tbody tr th:only-of-type {\n",
       "        vertical-align: middle;\n",
       "    }\n",
       "\n",
       "    .dataframe tbody tr th {\n",
       "        vertical-align: top;\n",
       "    }\n",
       "\n",
       "    .dataframe thead th {\n",
       "        text-align: right;\n",
       "    }\n",
       "</style>\n",
       "<table border=\"1\" class=\"dataframe\">\n",
       "  <thead>\n",
       "    <tr style=\"text-align: right;\">\n",
       "      <th></th>\n",
       "      <th>Currency</th>\n",
       "      <th>Close</th>\n",
       "      <th>Open</th>\n",
       "      <th>High</th>\n",
       "      <th>Low</th>\n",
       "    </tr>\n",
       "    <tr>\n",
       "      <th>Date</th>\n",
       "      <th></th>\n",
       "      <th></th>\n",
       "      <th></th>\n",
       "      <th></th>\n",
       "      <th></th>\n",
       "    </tr>\n",
       "  </thead>\n",
       "  <tbody>\n",
       "    <tr>\n",
       "      <th>2020-01-01</th>\n",
       "      <td>ETH</td>\n",
       "      <td>128.722603</td>\n",
       "      <td>132.126527</td>\n",
       "      <td>133.405184</td>\n",
       "      <td>127.846577</td>\n",
       "    </tr>\n",
       "    <tr>\n",
       "      <th>2020-01-02</th>\n",
       "      <td>ETH</td>\n",
       "      <td>181.728434</td>\n",
       "      <td>186.328560</td>\n",
       "      <td>186.611102</td>\n",
       "      <td>175.029199</td>\n",
       "    </tr>\n",
       "    <tr>\n",
       "      <th>2020-01-03</th>\n",
       "      <td>ETH</td>\n",
       "      <td>223.499288</td>\n",
       "      <td>229.786046</td>\n",
       "      <td>233.269199</td>\n",
       "      <td>221.445615</td>\n",
       "    </tr>\n",
       "    <tr>\n",
       "      <th>2020-01-04</th>\n",
       "      <td>ETH</td>\n",
       "      <td>133.892931</td>\n",
       "      <td>133.749800</td>\n",
       "      <td>135.284805</td>\n",
       "      <td>130.613336</td>\n",
       "    </tr>\n",
       "    <tr>\n",
       "      <th>2020-01-05</th>\n",
       "      <td>ETH</td>\n",
       "      <td>210.620234</td>\n",
       "      <td>215.128957</td>\n",
       "      <td>227.463250</td>\n",
       "      <td>202.278779</td>\n",
       "    </tr>\n",
       "  </tbody>\n",
       "</table>\n",
       "</div>"
      ],
      "text/plain": [
       "           Currency       Close        Open        High         Low\n",
       "Date                                                               \n",
       "2020-01-01      ETH  128.722603  132.126527  133.405184  127.846577\n",
       "2020-01-02      ETH  181.728434  186.328560  186.611102  175.029199\n",
       "2020-01-03      ETH  223.499288  229.786046  233.269199  221.445615\n",
       "2020-01-04      ETH  133.892931  133.749800  135.284805  130.613336\n",
       "2020-01-05      ETH  210.620234  215.128957  227.463250  202.278779"
      ]
     },
     "execution_count": 5,
     "metadata": {},
     "output_type": "execute_result"
    }
   ],
   "source": [
    "eth.head()"
   ]
  },
  {
   "cell_type": "code",
   "execution_count": 6,
   "metadata": {},
   "outputs": [
    {
     "data": {
      "text/html": [
       "<div>\n",
       "<style scoped>\n",
       "    .dataframe tbody tr th:only-of-type {\n",
       "        vertical-align: middle;\n",
       "    }\n",
       "\n",
       "    .dataframe tbody tr th {\n",
       "        vertical-align: top;\n",
       "    }\n",
       "\n",
       "    .dataframe thead th {\n",
       "        text-align: right;\n",
       "    }\n",
       "</style>\n",
       "<table border=\"1\" class=\"dataframe\">\n",
       "  <thead>\n",
       "    <tr style=\"text-align: right;\">\n",
       "      <th></th>\n",
       "      <th>Currency</th>\n",
       "      <th>Close</th>\n",
       "      <th>Open</th>\n",
       "      <th>High</th>\n",
       "      <th>Low</th>\n",
       "    </tr>\n",
       "    <tr>\n",
       "      <th>Date</th>\n",
       "      <th></th>\n",
       "      <th></th>\n",
       "      <th></th>\n",
       "      <th></th>\n",
       "      <th></th>\n",
       "    </tr>\n",
       "  </thead>\n",
       "  <tbody>\n",
       "    <tr>\n",
       "      <th>2020-01-01</th>\n",
       "      <td>LTC</td>\n",
       "      <td>41.213575</td>\n",
       "      <td>42.388688</td>\n",
       "      <td>42.882966</td>\n",
       "      <td>40.901041</td>\n",
       "    </tr>\n",
       "    <tr>\n",
       "      <th>2020-01-02</th>\n",
       "      <td>LTC</td>\n",
       "      <td>68.403032</td>\n",
       "      <td>68.979720</td>\n",
       "      <td>69.822341</td>\n",
       "      <td>65.359336</td>\n",
       "    </tr>\n",
       "    <tr>\n",
       "      <th>2020-01-03</th>\n",
       "      <td>LTC</td>\n",
       "      <td>59.023783</td>\n",
       "      <td>61.039843</td>\n",
       "      <td>61.698533</td>\n",
       "      <td>58.197111</td>\n",
       "    </tr>\n",
       "    <tr>\n",
       "      <th>2020-01-04</th>\n",
       "      <td>LTC</td>\n",
       "      <td>39.288700</td>\n",
       "      <td>39.276330</td>\n",
       "      <td>39.375602</td>\n",
       "      <td>38.498404</td>\n",
       "    </tr>\n",
       "    <tr>\n",
       "      <th>2020-01-05</th>\n",
       "      <td>LTC</td>\n",
       "      <td>46.974650</td>\n",
       "      <td>48.606065</td>\n",
       "      <td>50.879329</td>\n",
       "      <td>45.795808</td>\n",
       "    </tr>\n",
       "  </tbody>\n",
       "</table>\n",
       "</div>"
      ],
      "text/plain": [
       "           Currency      Close       Open       High        Low\n",
       "Date                                                           \n",
       "2020-01-01      LTC  41.213575  42.388688  42.882966  40.901041\n",
       "2020-01-02      LTC  68.403032  68.979720  69.822341  65.359336\n",
       "2020-01-03      LTC  59.023783  61.039843  61.698533  58.197111\n",
       "2020-01-04      LTC  39.288700  39.276330  39.375602  38.498404\n",
       "2020-01-05      LTC  46.974650  48.606065  50.879329  45.795808"
      ]
     },
     "execution_count": 6,
     "metadata": {},
     "output_type": "execute_result"
    }
   ],
   "source": [
    "ltc.head()"
   ]
  },
  {
   "cell_type": "code",
   "execution_count": 7,
   "metadata": {},
   "outputs": [
    {
     "data": {
      "text/html": [
       "<div>\n",
       "<style scoped>\n",
       "    .dataframe tbody tr th:only-of-type {\n",
       "        vertical-align: middle;\n",
       "    }\n",
       "\n",
       "    .dataframe tbody tr th {\n",
       "        vertical-align: top;\n",
       "    }\n",
       "\n",
       "    .dataframe thead th {\n",
       "        text-align: right;\n",
       "    }\n",
       "</style>\n",
       "<table border=\"1\" class=\"dataframe\">\n",
       "  <thead>\n",
       "    <tr style=\"text-align: right;\">\n",
       "      <th></th>\n",
       "      <th>Currency</th>\n",
       "      <th>Close</th>\n",
       "      <th>Open</th>\n",
       "      <th>High</th>\n",
       "      <th>Low</th>\n",
       "    </tr>\n",
       "    <tr>\n",
       "      <th>Date</th>\n",
       "      <th></th>\n",
       "      <th></th>\n",
       "      <th></th>\n",
       "      <th></th>\n",
       "      <th></th>\n",
       "    </tr>\n",
       "  </thead>\n",
       "  <tbody>\n",
       "    <tr>\n",
       "      <th>2020-01-01</th>\n",
       "      <td>DOGE</td>\n",
       "      <td>0.002029</td>\n",
       "      <td>0.002025</td>\n",
       "      <td>0.002034</td>\n",
       "      <td>0.001965</td>\n",
       "    </tr>\n",
       "    <tr>\n",
       "      <th>2020-01-02</th>\n",
       "      <td>DOGE</td>\n",
       "      <td>0.002399</td>\n",
       "      <td>0.002435</td>\n",
       "      <td>0.002454</td>\n",
       "      <td>0.002344</td>\n",
       "    </tr>\n",
       "    <tr>\n",
       "      <th>2020-01-03</th>\n",
       "      <td>DOGE</td>\n",
       "      <td>0.002247</td>\n",
       "      <td>0.002344</td>\n",
       "      <td>0.002345</td>\n",
       "      <td>0.002235</td>\n",
       "    </tr>\n",
       "    <tr>\n",
       "      <th>2020-01-04</th>\n",
       "      <td>DOGE</td>\n",
       "      <td>0.001830</td>\n",
       "      <td>0.001851</td>\n",
       "      <td>0.001856</td>\n",
       "      <td>0.001794</td>\n",
       "    </tr>\n",
       "    <tr>\n",
       "      <th>2020-01-05</th>\n",
       "      <td>DOGE</td>\n",
       "      <td>0.002456</td>\n",
       "      <td>0.002525</td>\n",
       "      <td>0.002705</td>\n",
       "      <td>0.002364</td>\n",
       "    </tr>\n",
       "  </tbody>\n",
       "</table>\n",
       "</div>"
      ],
      "text/plain": [
       "           Currency     Close      Open      High       Low\n",
       "Date                                                       \n",
       "2020-01-01     DOGE  0.002029  0.002025  0.002034  0.001965\n",
       "2020-01-02     DOGE  0.002399  0.002435  0.002454  0.002344\n",
       "2020-01-03     DOGE  0.002247  0.002344  0.002345  0.002235\n",
       "2020-01-04     DOGE  0.001830  0.001851  0.001856  0.001794\n",
       "2020-01-05     DOGE  0.002456  0.002525  0.002705  0.002364"
      ]
     },
     "execution_count": 7,
     "metadata": {},
     "output_type": "execute_result"
    }
   ],
   "source": [
    "DOGE.head()"
   ]
  },
  {
   "cell_type": "code",
   "execution_count": 8,
   "metadata": {},
   "outputs": [
    {
     "data": {
      "text/html": [
       "<div>\n",
       "<style scoped>\n",
       "    .dataframe tbody tr th:only-of-type {\n",
       "        vertical-align: middle;\n",
       "    }\n",
       "\n",
       "    .dataframe tbody tr th {\n",
       "        vertical-align: top;\n",
       "    }\n",
       "\n",
       "    .dataframe thead th {\n",
       "        text-align: right;\n",
       "    }\n",
       "</style>\n",
       "<table border=\"1\" class=\"dataframe\">\n",
       "  <thead>\n",
       "    <tr style=\"text-align: right;\">\n",
       "      <th></th>\n",
       "      <th>BTC</th>\n",
       "      <th>ETH</th>\n",
       "      <th>LTC</th>\n",
       "      <th>DOGE</th>\n",
       "    </tr>\n",
       "    <tr>\n",
       "      <th>Date</th>\n",
       "      <th></th>\n",
       "      <th></th>\n",
       "      <th></th>\n",
       "      <th></th>\n",
       "    </tr>\n",
       "  </thead>\n",
       "  <tbody>\n",
       "    <tr>\n",
       "      <th>2020-01-01</th>\n",
       "      <td>7179.957819</td>\n",
       "      <td>128.722603</td>\n",
       "      <td>41.213575</td>\n",
       "      <td>0.002029</td>\n",
       "    </tr>\n",
       "    <tr>\n",
       "      <th>2020-01-02</th>\n",
       "      <td>9388.880752</td>\n",
       "      <td>181.728434</td>\n",
       "      <td>68.403032</td>\n",
       "      <td>0.002399</td>\n",
       "    </tr>\n",
       "    <tr>\n",
       "      <th>2020-01-03</th>\n",
       "      <td>8639.591417</td>\n",
       "      <td>223.499288</td>\n",
       "      <td>59.023783</td>\n",
       "      <td>0.002247</td>\n",
       "    </tr>\n",
       "    <tr>\n",
       "      <th>2020-01-04</th>\n",
       "      <td>6446.421347</td>\n",
       "      <td>133.892931</td>\n",
       "      <td>39.288700</td>\n",
       "      <td>0.001830</td>\n",
       "    </tr>\n",
       "    <tr>\n",
       "      <th>2020-01-05</th>\n",
       "      <td>8767.672623</td>\n",
       "      <td>210.620234</td>\n",
       "      <td>46.974650</td>\n",
       "      <td>0.002456</td>\n",
       "    </tr>\n",
       "  </tbody>\n",
       "</table>\n",
       "</div>"
      ],
      "text/plain": [
       "                    BTC         ETH        LTC      DOGE\n",
       "Date                                                    \n",
       "2020-01-01  7179.957819  128.722603  41.213575  0.002029\n",
       "2020-01-02  9388.880752  181.728434  68.403032  0.002399\n",
       "2020-01-03  8639.591417  223.499288  59.023783  0.002247\n",
       "2020-01-04  6446.421347  133.892931  39.288700  0.001830\n",
       "2020-01-05  8767.672623  210.620234  46.974650  0.002456"
      ]
     },
     "execution_count": 8,
     "metadata": {},
     "output_type": "execute_result"
    }
   ],
   "source": [
    "df = pd.DataFrame({'BTC': btc.Close,\n",
    "                   'ETH': eth.Close,\n",
    "                   'LTC': ltc.Close,\n",
    "                   'DOGE': DOGE.Close})\n",
    "df.head()"
   ]
  },
  {
   "cell_type": "code",
   "execution_count": 9,
   "metadata": {},
   "outputs": [
    {
     "data": {
      "text/html": [
       "<div>\n",
       "<style scoped>\n",
       "    .dataframe tbody tr th:only-of-type {\n",
       "        vertical-align: middle;\n",
       "    }\n",
       "\n",
       "    .dataframe tbody tr th {\n",
       "        vertical-align: top;\n",
       "    }\n",
       "\n",
       "    .dataframe thead th {\n",
       "        text-align: right;\n",
       "    }\n",
       "</style>\n",
       "<table border=\"1\" class=\"dataframe\">\n",
       "  <thead>\n",
       "    <tr style=\"text-align: right;\">\n",
       "      <th></th>\n",
       "      <th>BTC</th>\n",
       "      <th>ETH</th>\n",
       "      <th>LTC</th>\n",
       "      <th>DOGE</th>\n",
       "    </tr>\n",
       "  </thead>\n",
       "  <tbody>\n",
       "    <tr>\n",
       "      <th>count</th>\n",
       "      <td>366.000000</td>\n",
       "      <td>366.000000</td>\n",
       "      <td>366.000000</td>\n",
       "      <td>366.000000</td>\n",
       "    </tr>\n",
       "    <tr>\n",
       "      <th>mean</th>\n",
       "      <td>11064.477459</td>\n",
       "      <td>305.981355</td>\n",
       "      <td>56.026844</td>\n",
       "      <td>0.002730</td>\n",
       "    </tr>\n",
       "    <tr>\n",
       "      <th>std</th>\n",
       "      <td>4194.494640</td>\n",
       "      <td>142.560966</td>\n",
       "      <td>17.732758</td>\n",
       "      <td>0.000601</td>\n",
       "    </tr>\n",
       "    <tr>\n",
       "      <th>min</th>\n",
       "      <td>4944.702336</td>\n",
       "      <td>107.898345</td>\n",
       "      <td>32.053195</td>\n",
       "      <td>0.001582</td>\n",
       "    </tr>\n",
       "    <tr>\n",
       "      <th>25%</th>\n",
       "      <td>8883.348266</td>\n",
       "      <td>200.518066</td>\n",
       "      <td>44.100596</td>\n",
       "      <td>0.002387</td>\n",
       "    </tr>\n",
       "    <tr>\n",
       "      <th>50%</th>\n",
       "      <td>9695.061967</td>\n",
       "      <td>244.172509</td>\n",
       "      <td>48.723677</td>\n",
       "      <td>0.002606</td>\n",
       "    </tr>\n",
       "    <tr>\n",
       "      <th>75%</th>\n",
       "      <td>11663.909757</td>\n",
       "      <td>389.241014</td>\n",
       "      <td>61.075483</td>\n",
       "      <td>0.003138</td>\n",
       "    </tr>\n",
       "    <tr>\n",
       "      <th>max</th>\n",
       "      <td>28768.836210</td>\n",
       "      <td>746.062517</td>\n",
       "      <td>129.601959</td>\n",
       "      <td>0.004938</td>\n",
       "    </tr>\n",
       "  </tbody>\n",
       "</table>\n",
       "</div>"
      ],
      "text/plain": [
       "                BTC         ETH         LTC        DOGE\n",
       "count    366.000000  366.000000  366.000000  366.000000\n",
       "mean   11064.477459  305.981355   56.026844    0.002730\n",
       "std     4194.494640  142.560966   17.732758    0.000601\n",
       "min     4944.702336  107.898345   32.053195    0.001582\n",
       "25%     8883.348266  200.518066   44.100596    0.002387\n",
       "50%     9695.061967  244.172509   48.723677    0.002606\n",
       "75%    11663.909757  389.241014   61.075483    0.003138\n",
       "max    28768.836210  746.062517  129.601959    0.004938"
      ]
     },
     "execution_count": 9,
     "metadata": {},
     "output_type": "execute_result"
    }
   ],
   "source": [
    "df.describe()"
   ]
  },
  {
   "cell_type": "markdown",
   "metadata": {},
   "source": [
    "## Visualize absolute closing prices"
   ]
  },
  {
   "cell_type": "markdown",
   "metadata": {},
   "source": [
    "The chart below shows the absolute closing prices. It is not of much use as BTC closing prices are much higher than prices of ETH, LTC and DOGE"
   ]
  },
  {
   "cell_type": "code",
   "execution_count": 10,
   "metadata": {},
   "outputs": [
    {
     "data": {
      "text/plain": [
       "<AxesSubplot:xlabel='Date'>"
      ]
     },
     "execution_count": 10,
     "metadata": {},
     "output_type": "execute_result"
    },
    {
     "data": {
      "image/png": "[encoded data removed]",
      "text/plain": [
       "<Figure size 1080x720 with 1 Axes>"
      ]
     },
     "metadata": {
      "needs_background": "light"
     },
     "output_type": "display_data"
    }
   ],
   "source": [
    "df.plot(grid=True, figsize=(15, 10))"
   ]
  },
  {
   "cell_type": "markdown",
   "metadata": {},
   "source": [
    "## Measure the correlation of closing prices"
   ]
  },
  {
   "cell_type": "markdown",
   "metadata": {},
   "source": [
    "Calculation of the Pearson correlation between the closing prices of BTC, ETH, LTC and XRP"
   ]
  },
  {
   "cell_type": "code",
   "execution_count": 11,
   "metadata": {},
   "outputs": [
    {
     "data": {
      "text/html": [
       "<div>\n",
       "<style scoped>\n",
       "    .dataframe tbody tr th:only-of-type {\n",
       "        vertical-align: middle;\n",
       "    }\n",
       "\n",
       "    .dataframe tbody tr th {\n",
       "        vertical-align: top;\n",
       "    }\n",
       "\n",
       "    .dataframe thead th {\n",
       "        text-align: right;\n",
       "    }\n",
       "</style>\n",
       "<table border=\"1\" class=\"dataframe\">\n",
       "  <thead>\n",
       "    <tr style=\"text-align: right;\">\n",
       "      <th></th>\n",
       "      <th>BTC</th>\n",
       "      <th>ETH</th>\n",
       "      <th>LTC</th>\n",
       "      <th>DOGE</th>\n",
       "    </tr>\n",
       "  </thead>\n",
       "  <tbody>\n",
       "    <tr>\n",
       "      <th>BTC</th>\n",
       "      <td>1.000000</td>\n",
       "      <td>0.940477</td>\n",
       "      <td>0.859088</td>\n",
       "      <td>0.769831</td>\n",
       "    </tr>\n",
       "    <tr>\n",
       "      <th>ETH</th>\n",
       "      <td>0.940477</td>\n",
       "      <td>1.000000</td>\n",
       "      <td>0.750635</td>\n",
       "      <td>0.787964</td>\n",
       "    </tr>\n",
       "    <tr>\n",
       "      <th>LTC</th>\n",
       "      <td>0.859088</td>\n",
       "      <td>0.750635</td>\n",
       "      <td>1.000000</td>\n",
       "      <td>0.711197</td>\n",
       "    </tr>\n",
       "    <tr>\n",
       "      <th>DOGE</th>\n",
       "      <td>0.769831</td>\n",
       "      <td>0.787964</td>\n",
       "      <td>0.711197</td>\n",
       "      <td>1.000000</td>\n",
       "    </tr>\n",
       "  </tbody>\n",
       "</table>\n",
       "</div>"
      ],
      "text/plain": [
       "           BTC       ETH       LTC      DOGE\n",
       "BTC   1.000000  0.940477  0.859088  0.769831\n",
       "ETH   0.940477  1.000000  0.750635  0.787964\n",
       "LTC   0.859088  0.750635  1.000000  0.711197\n",
       "DOGE  0.769831  0.787964  0.711197  1.000000"
      ]
     },
     "execution_count": 11,
     "metadata": {},
     "output_type": "execute_result"
    }
   ],
   "source": [
    "# Compute the correlation matrix\n",
    "corr = df.corr()\n",
    "corr"
   ]
  },
  {
   "cell_type": "markdown",
   "metadata": {},
   "source": [
    "As the correlation matrix is symmetric, only the lower half is shown"
   ]
  },
  {
   "cell_type": "code",
   "execution_count": 12,
   "metadata": {},
   "outputs": [
    {
     "data": {
      "text/plain": [
       "<AxesSubplot:>"
      ]
     },
     "execution_count": 12,
     "metadata": {},
     "output_type": "execute_result"
    },
    {
     "data": {
      "image/png": "[encoded data removed]",
      "text/plain": [
       "<Figure size 792x648 with 2 Axes>"
      ]
     },
     "metadata": {
      "needs_background": "light"
     },
     "output_type": "display_data"
    }
   ],
   "source": [
    "mask = np.zeros_like(corr, dtype=np.bool)\n",
    "mask[np.triu_indices_from(mask)] = True\n",
    "\n",
    "# Set up the matplotlib figure\n",
    "f, ax = plt.subplots(figsize=(11, 9))\n",
    "\n",
    "# Generate a custom diverging colormap\n",
    "cmap = sns.diverging_palette(220, 10, as_cmap=True)\n",
    "sns.heatmap(corr, mask=mask, cmap=cmap, annot=True, vmax=1, vmin=0, center=0, square=True, linewidths=.5 )\n"
   ]
  },
  {
   "cell_type": "markdown",
   "metadata": {},
   "source": [
    "# Results"
   ]
  },
  {
   "cell_type": "markdown",
   "metadata": {},
   "source": [
    "we can see from the plot that all the four BTC,ETH, LTC and DOGE are highly correlated"
   ]
  },
  {
   "cell_type": "markdown",
   "metadata": {},
   "source": [
    "BTC and ETH are very highly correlated with 0.94"
   ]
  },
  {
   "cell_type": "code",
   "execution_count": null,
   "metadata": {},
   "outputs": [],
   "source": []
  },
  {
   "cell_type": "code",
   "execution_count": null,
   "metadata": {},
   "outputs": [],
   "source": []
  }
 ],
 "metadata": {
  "kernelspec": {
   "display_name": "Python 3",
   "language": "python",
   "name": "python3"
  },
  "language_info": {
   "codemirror_mode": {
    "name": "ipython",
    "version": 3
   },
   "file_extension": ".py",
   "mimetype": "text/x-python",
   "name": "python",
   "nbconvert_exporter": "python",
   "pygments_lexer": "ipython3",
   "version": "3.8.5"
  }
 },
 "nbformat": 4,
 "nbformat_minor": 4
}
